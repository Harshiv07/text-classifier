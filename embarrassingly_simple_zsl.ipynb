{
  "nbformat": 4,
  "nbformat_minor": 0,
  "metadata": {
    "colab": {
      "name": "embarrassingly-simple-zsl.ipynb",
      "provenance": [],
      "collapsed_sections": []
    },
    "kernelspec": {
      "name": "python2",
      "display_name": "Python 2"
    }
  },
  "cells": [
    {
      "cell_type": "code",
      "metadata": {
        "id": "Dh4veGRaiMmV",
        "colab_type": "code",
        "colab": {
          "base_uri": "https://localhost:8080/",
          "height": 51
        },
        "outputId": "12ba0dac-462c-4f3c-ec0f-f3853924f594"
      },
      "source": [
        "!pip install sklearn==0.18"
      ],
      "execution_count": 6,
      "outputs": [
        {
          "output_type": "stream",
          "text": [
            "\u001b[31mERROR: Could not find a version that satisfies the requirement sklearn==0.18 (from versions: 0.0)\u001b[0m\n",
            "\u001b[31mERROR: No matching distribution found for sklearn==0.18\u001b[0m\n"
          ],
          "name": "stdout"
        }
      ]
    },
    {
      "cell_type": "code",
      "metadata": {
        "id": "RvUrh9_5iTsr",
        "colab_type": "code",
        "colab": {
          "base_uri": "https://localhost:8080/",
          "height": 462
        },
        "outputId": "ab0305ca-bf5a-4c99-c9f9-1ef138211b02"
      },
      "source": [
        "\"\"\"\n",
        "\tAuthor: HJ van Veen <info@mlwave.com>\n",
        "\tDescription: Experiment with zero and one-shot learning based on the paper:\n",
        "\t\t\t\t (2015) \"An embarrassingly simply approach to zero-shot learning\"\n",
        "\t\t\t\t Bernardino Romera-Paredes, Philip H. S. Torr\n",
        "\t\t\t\t http://jmlr.org/proceedings/papers/v37/romera-paredes15.pdf\n",
        "\"\"\"\n",
        "\n",
        "from sklearn import datasets, linear_model, preprocessing, decomposition, manifold\n",
        "from sklearn.metrics import make_scorer, accuracy_score\n",
        "import numpy as np\n",
        "from sklearn.model_selection import cross_validate, cross_val_score, train_test_split\n",
        "\n",
        "# We use a digit dataset 10 classes\n",
        "X, y = datasets.load_digits().data, datasets.load_digits().target\n",
        "\n",
        "# We have d dimensions, d=64\n",
        "# We have z classes, z=6, [digit0, digit1, digit2, digit7, digit8, digit9]\n",
        "lbl = preprocessing.LabelEncoder()\n",
        "y_train = lbl.fit_transform(y[np.where((y == 0) | (y == 1) | (y == 2) | (y == 7) | (y == 8) | (y == 9))])\n",
        "X_train = X[np.where((y == 0) | (y == 1) | (y == 2) | (y == 7) | (y == 8) | (y == 9))]\n",
        "\n",
        "# We have Weight matrix, W, d x z\n",
        "model = linear_model.LogisticRegression(random_state=1)\n",
        "model.fit(X_train, y_train)\n",
        "W = model.coef_.T\n",
        "\n",
        "print cross_val_score(model, X_train, y_train, scoring=make_scorer(accuracy_score))\n",
        "\n",
        "# We have a attributes, a=4 [pca_d1, pca_d2, lle_d1, lle_d2]\n",
        "# We have Signature matrix, S a x z\n",
        "pca = decomposition.PCA(n_components=2)\n",
        "lle = manifold.LocallyLinearEmbedding(n_components=2, random_state=1)\n",
        "X_pca = pca.fit_transform(X_train)\n",
        "X_lle = lle.fit_transform(X_train)\n",
        "\n",
        "for i, ys in enumerate(np.unique(y_train)):\n",
        "\tif i == 0:\n",
        "\t\tS = np.r_[ np.mean(X_pca[y_train == ys], axis=0), np.mean(X_lle[y_train == ys], axis=0) ]\n",
        "\telse:\n",
        "\t\tS = np.c_[S, np.r_[ np.mean(X_pca[y_train == ys], axis=0), np.mean(X_lle[y_train == ys], axis=0) ]]\n",
        "\n",
        "# From W and S calculate V, d x a\n",
        "V = np.linalg.lstsq(S.T, W.T)[0].T\n",
        "\n",
        "W_new = np.dot(S.T, V.T).T\n",
        "\n",
        "print \"%f\"%np.sum(np.sqrt((W_new-W)**2))\n",
        "\n",
        "#for ys, x in zip(y_train, X_train):\n",
        "#\tprint np.argmax(np.dot(x.T, W_new)), ys\n",
        "\n",
        "# INFERENCE\n",
        "lbl = preprocessing.LabelEncoder()\n",
        "y_test = lbl.fit_transform(y[np.where((y == 3) | (y == 4) | (y == 5) | (y == 6))])\n",
        "X_test = X[np.where((y == 3) | (y == 4) | (y == 5) | (y == 6))]\n",
        "\n",
        "# create S' (the Signature matrix for the new classes, using the old transformers)\n",
        "X_test, X_sig, y_test, y_sig = train_test_split(X_test, y_test, test_size=4, random_state=1, stratify=y_test)\n",
        "\n",
        "X_pca = pca.transform(X_sig)\n",
        "X_lle = lle.transform(X_sig)\n",
        "\n",
        "for i, ys in enumerate(np.unique(y_sig)):\n",
        "\tif i == 0:\n",
        "\t\tS = np.r_[ np.mean(X_pca[y_sig == ys], axis=0), np.mean(X_lle[y_sig == ys], axis=0) ]\n",
        "\telse:\n",
        "\t\tS = np.c_[S, np.r_[ np.mean(X_pca[y_sig == ys], axis=0), np.mean(X_lle[y_sig == ys], axis=0) ]]\n",
        "\n",
        "# Calculate the new Weight/Coefficient matrix\t\t\n",
        "W_new = np.dot(S.T, V.T).T\n",
        "\n",
        "# Check performance\n",
        "correct = 0\n",
        "for i, (ys, x) in enumerate(zip(y_test, X_test)):\n",
        "\tprint lbl.inverse_transform(np.argmax(np.dot(x.T, W_new))), lbl.inverse_transform(ys)\n",
        "\tif np.argmax(np.dot(x.T, W_new)) == ys:\n",
        "\t\tcorrect +=1\n",
        "\t\t\n",
        "print correct, i, correct / float(i)"
      ],
      "execution_count": 9,
      "outputs": [
        {
          "output_type": "stream",
          "text": [
            "[0.91899441 0.92997199 0.91267606]\n",
            "40.152231\n"
          ],
          "name": "stdout"
        },
        {
          "output_type": "stream",
          "text": [
            "/usr/local/lib/python2.7/dist-packages/ipykernel_launcher.py:44: FutureWarning: `rcond` parameter will change to the default of machine precision times ``max(M, N)`` where M and N are the input matrix dimensions.\n",
            "To use the future default and silence this warning we advise to pass `rcond=None`, to keep using the old, explicitly pass `rcond=-1`.\n"
          ],
          "name": "stderr"
        },
        {
          "output_type": "error",
          "ename": "ValueError",
          "evalue": "ignored",
          "traceback": [
            "\u001b[0;31m\u001b[0m",
            "\u001b[0;31mValueError\u001b[0mTraceback (most recent call last)",
            "\u001b[0;32m<ipython-input-9-497df3b2aa77>\u001b[0m in \u001b[0;36m<module>\u001b[0;34m()\u001b[0m\n\u001b[1;32m     74\u001b[0m \u001b[0mcorrect\u001b[0m \u001b[0;34m=\u001b[0m \u001b[0;36m0\u001b[0m\u001b[0;34m\u001b[0m\u001b[0m\n\u001b[1;32m     75\u001b[0m \u001b[0;32mfor\u001b[0m \u001b[0mi\u001b[0m\u001b[0;34m,\u001b[0m \u001b[0;34m(\u001b[0m\u001b[0mys\u001b[0m\u001b[0;34m,\u001b[0m \u001b[0mx\u001b[0m\u001b[0;34m)\u001b[0m \u001b[0;32min\u001b[0m \u001b[0menumerate\u001b[0m\u001b[0;34m(\u001b[0m\u001b[0mzip\u001b[0m\u001b[0;34m(\u001b[0m\u001b[0my_test\u001b[0m\u001b[0;34m,\u001b[0m \u001b[0mX_test\u001b[0m\u001b[0;34m)\u001b[0m\u001b[0;34m)\u001b[0m\u001b[0;34m:\u001b[0m\u001b[0;34m\u001b[0m\u001b[0m\n\u001b[0;32m---> 76\u001b[0;31m         \u001b[0;32mprint\u001b[0m \u001b[0mlbl\u001b[0m\u001b[0;34m.\u001b[0m\u001b[0minverse_transform\u001b[0m\u001b[0;34m(\u001b[0m\u001b[0mnp\u001b[0m\u001b[0;34m.\u001b[0m\u001b[0margmax\u001b[0m\u001b[0;34m(\u001b[0m\u001b[0mnp\u001b[0m\u001b[0;34m.\u001b[0m\u001b[0mdot\u001b[0m\u001b[0;34m(\u001b[0m\u001b[0mx\u001b[0m\u001b[0;34m.\u001b[0m\u001b[0mT\u001b[0m\u001b[0;34m,\u001b[0m \u001b[0mW_new\u001b[0m\u001b[0;34m)\u001b[0m\u001b[0;34m)\u001b[0m\u001b[0;34m)\u001b[0m\u001b[0;34m,\u001b[0m \u001b[0mlbl\u001b[0m\u001b[0;34m.\u001b[0m\u001b[0minverse_transform\u001b[0m\u001b[0;34m(\u001b[0m\u001b[0mys\u001b[0m\u001b[0;34m)\u001b[0m\u001b[0;34m\u001b[0m\u001b[0m\n\u001b[0m\u001b[1;32m     77\u001b[0m         \u001b[0;32mif\u001b[0m \u001b[0mnp\u001b[0m\u001b[0;34m.\u001b[0m\u001b[0margmax\u001b[0m\u001b[0;34m(\u001b[0m\u001b[0mnp\u001b[0m\u001b[0;34m.\u001b[0m\u001b[0mdot\u001b[0m\u001b[0;34m(\u001b[0m\u001b[0mx\u001b[0m\u001b[0;34m.\u001b[0m\u001b[0mT\u001b[0m\u001b[0;34m,\u001b[0m \u001b[0mW_new\u001b[0m\u001b[0;34m)\u001b[0m\u001b[0;34m)\u001b[0m \u001b[0;34m==\u001b[0m \u001b[0mys\u001b[0m\u001b[0;34m:\u001b[0m\u001b[0;34m\u001b[0m\u001b[0m\n\u001b[1;32m     78\u001b[0m                 \u001b[0mcorrect\u001b[0m \u001b[0;34m+=\u001b[0m\u001b[0;36m1\u001b[0m\u001b[0;34m\u001b[0m\u001b[0m\n",
            "\u001b[0;32m/usr/local/lib/python2.7/dist-packages/sklearn/preprocessing/label.pyc\u001b[0m in \u001b[0;36minverse_transform\u001b[0;34m(self, y)\u001b[0m\n\u001b[1;32m    271\u001b[0m         \"\"\"\n\u001b[1;32m    272\u001b[0m         \u001b[0mcheck_is_fitted\u001b[0m\u001b[0;34m(\u001b[0m\u001b[0mself\u001b[0m\u001b[0;34m,\u001b[0m \u001b[0;34m'classes_'\u001b[0m\u001b[0;34m)\u001b[0m\u001b[0;34m\u001b[0m\u001b[0m\n\u001b[0;32m--> 273\u001b[0;31m         \u001b[0my\u001b[0m \u001b[0;34m=\u001b[0m \u001b[0mcolumn_or_1d\u001b[0m\u001b[0;34m(\u001b[0m\u001b[0my\u001b[0m\u001b[0;34m,\u001b[0m \u001b[0mwarn\u001b[0m\u001b[0;34m=\u001b[0m\u001b[0mTrue\u001b[0m\u001b[0;34m)\u001b[0m\u001b[0;34m\u001b[0m\u001b[0m\n\u001b[0m\u001b[1;32m    274\u001b[0m         \u001b[0;31m# inverse transform of empty array is empty array\u001b[0m\u001b[0;34m\u001b[0m\u001b[0;34m\u001b[0m\u001b[0m\n\u001b[1;32m    275\u001b[0m         \u001b[0;32mif\u001b[0m \u001b[0m_num_samples\u001b[0m\u001b[0;34m(\u001b[0m\u001b[0my\u001b[0m\u001b[0;34m)\u001b[0m \u001b[0;34m==\u001b[0m \u001b[0;36m0\u001b[0m\u001b[0;34m:\u001b[0m\u001b[0;34m\u001b[0m\u001b[0m\n",
            "\u001b[0;32m/usr/local/lib/python2.7/dist-packages/sklearn/utils/validation.pyc\u001b[0m in \u001b[0;36mcolumn_or_1d\u001b[0;34m(y, warn)\u001b[0m\n\u001b[1;32m    795\u001b[0m         \u001b[0;32mreturn\u001b[0m \u001b[0mnp\u001b[0m\u001b[0;34m.\u001b[0m\u001b[0mravel\u001b[0m\u001b[0;34m(\u001b[0m\u001b[0my\u001b[0m\u001b[0;34m)\u001b[0m\u001b[0;34m\u001b[0m\u001b[0m\n\u001b[1;32m    796\u001b[0m \u001b[0;34m\u001b[0m\u001b[0m\n\u001b[0;32m--> 797\u001b[0;31m     \u001b[0;32mraise\u001b[0m \u001b[0mValueError\u001b[0m\u001b[0;34m(\u001b[0m\u001b[0;34m\"bad input shape {0}\"\u001b[0m\u001b[0;34m.\u001b[0m\u001b[0mformat\u001b[0m\u001b[0;34m(\u001b[0m\u001b[0mshape\u001b[0m\u001b[0;34m)\u001b[0m\u001b[0;34m)\u001b[0m\u001b[0;34m\u001b[0m\u001b[0m\n\u001b[0m\u001b[1;32m    798\u001b[0m \u001b[0;34m\u001b[0m\u001b[0m\n\u001b[1;32m    799\u001b[0m \u001b[0;34m\u001b[0m\u001b[0m\n",
            "\u001b[0;31mValueError\u001b[0m: bad input shape ()"
          ]
        }
      ]
    }
  ]
}